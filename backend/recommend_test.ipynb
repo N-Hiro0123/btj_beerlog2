{
 "cells": [
  {
   "cell_type": "markdown",
   "metadata": {},
   "source": [
    "#### 動かすにはipykernelのインストールが必要です\n",
    "#### アプリ自体には不要なものであるので、requirements.txtへは入れていません"
   ]
  },
  {
   "cell_type": "code",
   "execution_count": 1,
   "metadata": {},
   "outputs": [
    {
     "name": "stdout",
     "output_type": "stream",
     "text": [
      "uname_result(system='Windows', node='DESKTOP-G50I8H1', release='10', version='10.0.22631', machine='AMD64')\n"
     ]
    },
    {
     "name": "stderr",
     "output_type": "stream",
     "text": [
      "C:\\Users\\Nishi-Hiro\\AppData\\Local\\Temp\\ipykernel_25448\\3166847921.py:33: MovedIn20Warning: The ``declarative_base()`` function is now available as sqlalchemy.orm.declarative_base(). (deprecated since: 2.0) (Background on SQLAlchemy 2.0 at: https://sqlalche.me/e/b8d9)\n",
      "  Base = declarative_base()\n"
     ]
    }
   ],
   "source": [
    "# connect.pyの中身\n",
    "# uname() error回避\n",
    "import platform\n",
    "print(platform.uname())\n",
    "# 意図は理解しきれていないが入れておく\n",
    "\n",
    "import os\n",
    "from dotenv import load_dotenv\n",
    "from sqlalchemy import create_engine\n",
    "from sqlalchemy.orm import sessionmaker\n",
    "from sqlalchemy.ext.declarative import declarative_base\n",
    "\n",
    "# 環境変数のロード\n",
    "load_dotenv()\n",
    "AZURE_MY_SERVER = os.getenv(\"AZURE_MY_SERVER\")\n",
    "AZURE_MY_ADMIN = os.getenv(\"AZURE_MY_ADMIN\")\n",
    "AZURE_MY_PASSWORD = os.getenv(\"AZURE_MY_PASSWORD\")\n",
    "AZURE_MY_DATABASE = os.getenv(\"AZURE_MY_DATABASE\")\n",
    "\n",
    "# SSL証明書のパスを設定(connect.pyと同じ場所におく)\n",
    "# base_path = os.path.dirname(os.path.abspath(__file__))\n",
    "# ssl_cert_path = os.path.join(base_path, '../backend_env/DigiCertGlobalRootCA.crt.pem')\n",
    "ssl_cert_path = 'backend_env/DigiCertGlobalRootCA.crt.pem'\n",
    "\n",
    "# SQLAlchemyの接続URLを作成\n",
    "connection_url = f\"mysql+pymysql://{AZURE_MY_ADMIN}:{AZURE_MY_PASSWORD}@{AZURE_MY_SERVER}.mysql.database.azure.com/{AZURE_MY_DATABASE}?charset=utf8\"\n",
    "\n",
    "# SQLAlchemyエンジンを作成\n",
    "engine = create_engine(connection_url, connect_args={\"ssl\": {\"ca\": ssl_cert_path}}, echo=True)\n",
    "\n",
    "# セッションの作成\n",
    "SessionLocal = sessionmaker(autocommit=False, autoflush=False, bind=engine)\n",
    "Base = declarative_base()\n",
    "\n",
    "# データベースセッションを取得するための関数\n",
    "db = SessionLocal()\n",
    "\n",
    "\n"
   ]
  },
  {
   "cell_type": "code",
   "execution_count": 2,
   "metadata": {},
   "outputs": [
    {
     "name": "stdout",
     "output_type": "stream",
     "text": [
      "uname_result(system='Windows', node='DESKTOP-G50I8H1', release='10', version='10.0.22631', machine='AMD64')\n",
      "2024-08-04 19:52:59,107 INFO sqlalchemy.engine.Engine SELECT DATABASE()\n",
      "2024-08-04 19:52:59,107 INFO sqlalchemy.engine.Engine [raw sql] {}\n",
      "2024-08-04 19:52:59,153 INFO sqlalchemy.engine.Engine SELECT @@sql_mode\n",
      "2024-08-04 19:52:59,153 INFO sqlalchemy.engine.Engine [raw sql] {}\n",
      "2024-08-04 19:52:59,176 INFO sqlalchemy.engine.Engine SELECT @@lower_case_table_names\n",
      "2024-08-04 19:52:59,176 INFO sqlalchemy.engine.Engine [raw sql] {}\n",
      "Connection established\n"
     ]
    }
   ],
   "source": [
    "from fastapi import FastAPI, Depends, HTTPException\n",
    "from fastapi.middleware.cors import CORSMiddleware\n",
    "from sqlalchemy.orm import Session\n",
    "from db_control import crud, connect, schemas\n",
    "import base64\n",
    "from typing import List\n",
    "\n"
   ]
  },
  {
   "cell_type": "code",
   "execution_count": 3,
   "metadata": {},
   "outputs": [],
   "source": [
    "def get_ec_sets_by_category(db: Session, category: str):\n",
    "    return (\n",
    "        db.query(\n",
    "            EC_Set.ec_set_id,\n",
    "            EC_Set.set_name,\n",
    "            EC_Set.set_description,\n",
    "        )\n",
    "        .filter(EC_Set.category == category)\n",
    "        .all()\n",
    "    )\n",
    "\n",
    "def get_ec_sets(category: str, db: Session):\n",
    "    ec_sets = crud.get_ec_sets_by_category(db, category)\n",
    "\n",
    "    return ec_sets"
   ]
  },
  {
   "cell_type": "code",
   "execution_count": 4,
   "metadata": {},
   "outputs": [
    {
     "name": "stdout",
     "output_type": "stream",
     "text": [
      "2024-08-04 19:53:06,042 INFO sqlalchemy.engine.Engine SELECT DATABASE()\n",
      "2024-08-04 19:53:06,047 INFO sqlalchemy.engine.Engine [raw sql] {}\n",
      "2024-08-04 19:53:06,091 INFO sqlalchemy.engine.Engine SELECT @@sql_mode\n",
      "2024-08-04 19:53:06,093 INFO sqlalchemy.engine.Engine [raw sql] {}\n",
      "2024-08-04 19:53:06,114 INFO sqlalchemy.engine.Engine SELECT @@lower_case_table_names\n",
      "2024-08-04 19:53:06,116 INFO sqlalchemy.engine.Engine [raw sql] {}\n",
      "2024-08-04 19:53:06,165 INFO sqlalchemy.engine.Engine BEGIN (implicit)\n",
      "2024-08-04 19:53:06,217 INFO sqlalchemy.engine.Engine SELECT ec_sets.ec_set_id AS ec_sets_ec_set_id, ec_sets.set_name AS ec_sets_set_name, ec_sets.set_description AS ec_sets_set_description \n",
      "FROM ec_sets \n",
      "WHERE ec_sets.category = %(category_1)s\n",
      "2024-08-04 19:53:06,217 INFO sqlalchemy.engine.Engine [generated in 0.00085s] {'category_1': 'national'}\n"
     ]
    },
    {
     "data": {
      "text/plain": [
       "[(1, '人気のナショナルブランド', '国民に愛される人気ブランドで、日々をもっと彩り豊かに！'),\n",
       " (2, '好みのナショナルブランド', 'あなたのスタイルにマッチする、お気に入りのナショナルブランド。'),\n",
       " (3, '意外なナショナルブランド', '新たな発見を楽しむ、意外なナショナルブランドセレクション。'),\n",
       " (4, 'xxx', 'xxx'),\n",
       " (5, 'xxx', 'xxx'),\n",
       " (6, 'xxx', 'xxx'),\n",
       " (7, 'xxx', 'xxx'),\n",
       " (8, 'xxx', 'xxx'),\n",
       " (9, 'xxx', 'xxx'),\n",
       " (10, 'xxx', 'xxx')]"
      ]
     },
     "metadata": {},
     "output_type": "display_data"
    }
   ],
   "source": [
    "ec_sets = get_ec_sets(category=\"national\", db = db)\n",
    "display(ec_sets)"
   ]
  },
  {
   "cell_type": "code",
   "execution_count": 5,
   "metadata": {},
   "outputs": [],
   "source": [
    "from db_control import mymodels\n",
    "import pandas as pd\n",
    "from sqlalchemy import select, and_"
   ]
  },
  {
   "cell_type": "code",
   "execution_count": 6,
   "metadata": {},
   "outputs": [],
   "source": [
    "# 1. ageとgenderの条件に当てはまるデータを取得\n",
    "def get_filtered_data_by_age_gender(age, gender, category):\n",
    "    query = (\n",
    "        select(mymodels.Survey)\n",
    "        .join(mymodels.Brand)\n",
    "        .where(\n",
    "            and_(\n",
    "                mymodels.Survey.age_lower_limit < age,\n",
    "                mymodels.Survey.age_upper_limit > age,\n",
    "                mymodels.Survey.gender == gender,\n",
    "                mymodels.Brand.category == category,\n",
    "            )\n",
    "        )\n",
    "    )\n",
    "\n",
    "    results = db.execute(query).mappings().all()\n",
    "    \n",
    "    return results\n",
    "\n",
    "# 2. 抽出したデータに含まれるbrand_idの種類を取得\n",
    "def get_unique_brand_ids(results):\n",
    "    brand_ids = {row['Survey'].brand_id for row in results}\n",
    "    return brand_ids\n",
    "\n",
    "# 3. 各brand_idについて、get_filtered_dataを使用してデータを取得し、一つのDataFrameを作成\n",
    "def get_combined_data(age, gender, category):\n",
    "    results = get_filtered_data_by_age_gender(age, gender, category)\n",
    "    brand_ids = get_unique_brand_ids(results)\n",
    "    \n",
    "    combined_data = pd.DataFrame()\n",
    "    \n",
    "    for brand_id in brand_ids:\n",
    "        df = get_filtered_data(brand_id, age, gender)\n",
    "        combined_data = pd.concat([combined_data, df], ignore_index=True)\n",
    "    \n",
    "    return combined_data"
   ]
  },
  {
   "cell_type": "code",
   "execution_count": 7,
   "metadata": {},
   "outputs": [],
   "source": [
    "# データ抽出関数\n",
    "def get_filtered_data(brand_id, age, gender):\n",
    "    query = (\n",
    "        select(mymodels.Survey)\n",
    "        .where(\n",
    "            and_(\n",
    "                mymodels.Survey.brand_id == brand_id,\n",
    "                mymodels.Survey.age_lower_limit < age,\n",
    "                mymodels.Survey.age_upper_limit > age,\n",
    "                mymodels.Survey.item_id.in_([1, 2, 3, 4, 5, 6, 7, 8]),\n",
    "                mymodels.Survey.gender == gender\n",
    "            )\n",
    "        )\n",
    "    )\n",
    "\n",
    "    # 出力結果をうまく扱えなかったので辞書形式にする\n",
    "    results = db.execute(query).mappings().fetchall()\n",
    "    \n",
    "    # 結果をデバッグ用に表示\n",
    "    # for r in results:\n",
    "    #     survey = r['Survey']  # 辞書からオブジェクトを取り出す\n",
    "    #     print(f\"survey_id: {survey.survey_id}, item_id: {survey.item_id}, brand_id: {survey.brand_id}, score: {survey.score}, age_lower_limit: {survey.age_lower_limit}, age_upper_limit: {survey.age_upper_limit}, gender: {survey.gender}, response_count: {survey.response_count}\")\n",
    "    \n",
    "    # スコアを8次元のベクトルとして整理\n",
    "    data = {'brand_id': [brand_id], 'age': [age], 'gender': [gender], 'id1': [None], 'id2': [None], 'id3': [None], 'id4': [None], 'id5': [None], 'id6': [None], 'id7': [None], 'id8': [None]}\n",
    "    \n",
    "    for row in results:\n",
    "        survey = row['Survey']  # 辞書からオブジェクトを取り出す\n",
    "        item_id = survey.item_id\n",
    "        if 1 <= item_id <= 8:\n",
    "            data[f'id{item_id}'][0] = survey.score\n",
    "    \n",
    "    df = pd.DataFrame(data)\n",
    "    return df"
   ]
  },
  {
   "cell_type": "code",
   "execution_count": 8,
   "metadata": {},
   "outputs": [
    {
     "name": "stdout",
     "output_type": "stream",
     "text": [
      "2024-08-04 19:53:22,529 INFO sqlalchemy.engine.Engine SELECT surveys.survey_id, surveys.item_id, surveys.brand_id, surveys.score, surveys.age_lower_limit, surveys.age_upper_limit, surveys.gender, surveys.response_count \n",
      "FROM surveys INNER JOIN brands ON brands.brand_id = surveys.brand_id \n",
      "WHERE surveys.age_lower_limit < %(age_lower_limit_1)s AND surveys.age_upper_limit > %(age_upper_limit_1)s AND surveys.gender = %(gender_1)s AND brands.category = %(category_1)s\n",
      "2024-08-04 19:53:22,530 INFO sqlalchemy.engine.Engine [generated in 0.00127s] {'age_lower_limit_1': 35, 'age_upper_limit_1': 35, 'gender_1': 1, 'category_1': 'craft'}\n",
      "2024-08-04 19:53:22,619 INFO sqlalchemy.engine.Engine SELECT surveys.survey_id, surveys.item_id, surveys.brand_id, surveys.score, surveys.age_lower_limit, surveys.age_upper_limit, surveys.gender, surveys.response_count \n",
      "FROM surveys \n",
      "WHERE surveys.brand_id = %(brand_id_1)s AND surveys.age_lower_limit < %(age_lower_limit_1)s AND surveys.age_upper_limit > %(age_upper_limit_1)s AND surveys.item_id IN (%(item_id_1_1)s, %(item_id_1_2)s, %(item_id_1_3)s, %(item_id_1_4)s, %(item_id_1_5)s, %(item_id_1_6)s, %(item_id_1_7)s, %(item_id_1_8)s) AND surveys.gender = %(gender_1)s\n",
      "2024-08-04 19:53:22,620 INFO sqlalchemy.engine.Engine [generated in 0.00133s] {'brand_id_1': 11, 'age_lower_limit_1': 35, 'age_upper_limit_1': 35, 'gender_1': 1, 'item_id_1_1': 1, 'item_id_1_2': 2, 'item_id_1_3': 3, 'item_id_1_4': 4, 'item_id_1_5': 5, 'item_id_1_6': 6, 'item_id_1_7': 7, 'item_id_1_8': 8}\n",
      "2024-08-04 19:53:22,655 INFO sqlalchemy.engine.Engine SELECT surveys.survey_id, surveys.item_id, surveys.brand_id, surveys.score, surveys.age_lower_limit, surveys.age_upper_limit, surveys.gender, surveys.response_count \n",
      "FROM surveys \n",
      "WHERE surveys.brand_id = %(brand_id_1)s AND surveys.age_lower_limit < %(age_lower_limit_1)s AND surveys.age_upper_limit > %(age_upper_limit_1)s AND surveys.item_id IN (%(item_id_1_1)s, %(item_id_1_2)s, %(item_id_1_3)s, %(item_id_1_4)s, %(item_id_1_5)s, %(item_id_1_6)s, %(item_id_1_7)s, %(item_id_1_8)s) AND surveys.gender = %(gender_1)s\n",
      "2024-08-04 19:53:22,657 INFO sqlalchemy.engine.Engine [cached since 0.03898s ago] {'brand_id_1': 13, 'age_lower_limit_1': 35, 'age_upper_limit_1': 35, 'gender_1': 1, 'item_id_1_1': 1, 'item_id_1_2': 2, 'item_id_1_3': 3, 'item_id_1_4': 4, 'item_id_1_5': 5, 'item_id_1_6': 6, 'item_id_1_7': 7, 'item_id_1_8': 8}\n",
      "2024-08-04 19:53:22,685 INFO sqlalchemy.engine.Engine SELECT surveys.survey_id, surveys.item_id, surveys.brand_id, surveys.score, surveys.age_lower_limit, surveys.age_upper_limit, surveys.gender, surveys.response_count \n",
      "FROM surveys \n",
      "WHERE surveys.brand_id = %(brand_id_1)s AND surveys.age_lower_limit < %(age_lower_limit_1)s AND surveys.age_upper_limit > %(age_upper_limit_1)s AND surveys.item_id IN (%(item_id_1_1)s, %(item_id_1_2)s, %(item_id_1_3)s, %(item_id_1_4)s, %(item_id_1_5)s, %(item_id_1_6)s, %(item_id_1_7)s, %(item_id_1_8)s) AND surveys.gender = %(gender_1)s\n",
      "2024-08-04 19:53:22,686 INFO sqlalchemy.engine.Engine [cached since 0.06739s ago] {'brand_id_1': 14, 'age_lower_limit_1': 35, 'age_upper_limit_1': 35, 'gender_1': 1, 'item_id_1_1': 1, 'item_id_1_2': 2, 'item_id_1_3': 3, 'item_id_1_4': 4, 'item_id_1_5': 5, 'item_id_1_6': 6, 'item_id_1_7': 7, 'item_id_1_8': 8}\n",
      "2024-08-04 19:53:22,714 INFO sqlalchemy.engine.Engine SELECT surveys.survey_id, surveys.item_id, surveys.brand_id, surveys.score, surveys.age_lower_limit, surveys.age_upper_limit, surveys.gender, surveys.response_count \n",
      "FROM surveys \n",
      "WHERE surveys.brand_id = %(brand_id_1)s AND surveys.age_lower_limit < %(age_lower_limit_1)s AND surveys.age_upper_limit > %(age_upper_limit_1)s AND surveys.item_id IN (%(item_id_1_1)s, %(item_id_1_2)s, %(item_id_1_3)s, %(item_id_1_4)s, %(item_id_1_5)s, %(item_id_1_6)s, %(item_id_1_7)s, %(item_id_1_8)s) AND surveys.gender = %(gender_1)s\n",
      "2024-08-04 19:53:22,716 INFO sqlalchemy.engine.Engine [cached since 0.09717s ago] {'brand_id_1': 15, 'age_lower_limit_1': 35, 'age_upper_limit_1': 35, 'gender_1': 1, 'item_id_1_1': 1, 'item_id_1_2': 2, 'item_id_1_3': 3, 'item_id_1_4': 4, 'item_id_1_5': 5, 'item_id_1_6': 6, 'item_id_1_7': 7, 'item_id_1_8': 8}\n",
      "2024-08-04 19:53:22,745 INFO sqlalchemy.engine.Engine SELECT surveys.survey_id, surveys.item_id, surveys.brand_id, surveys.score, surveys.age_lower_limit, surveys.age_upper_limit, surveys.gender, surveys.response_count \n",
      "FROM surveys \n",
      "WHERE surveys.brand_id = %(brand_id_1)s AND surveys.age_lower_limit < %(age_lower_limit_1)s AND surveys.age_upper_limit > %(age_upper_limit_1)s AND surveys.item_id IN (%(item_id_1_1)s, %(item_id_1_2)s, %(item_id_1_3)s, %(item_id_1_4)s, %(item_id_1_5)s, %(item_id_1_6)s, %(item_id_1_7)s, %(item_id_1_8)s) AND surveys.gender = %(gender_1)s\n",
      "2024-08-04 19:53:22,746 INFO sqlalchemy.engine.Engine [cached since 0.1287s ago] {'brand_id_1': 17, 'age_lower_limit_1': 35, 'age_upper_limit_1': 35, 'gender_1': 1, 'item_id_1_1': 1, 'item_id_1_2': 2, 'item_id_1_3': 3, 'item_id_1_4': 4, 'item_id_1_5': 5, 'item_id_1_6': 6, 'item_id_1_7': 7, 'item_id_1_8': 8}\n",
      "2024-08-04 19:53:22,775 INFO sqlalchemy.engine.Engine SELECT surveys.survey_id, surveys.item_id, surveys.brand_id, surveys.score, surveys.age_lower_limit, surveys.age_upper_limit, surveys.gender, surveys.response_count \n",
      "FROM surveys \n",
      "WHERE surveys.brand_id = %(brand_id_1)s AND surveys.age_lower_limit < %(age_lower_limit_1)s AND surveys.age_upper_limit > %(age_upper_limit_1)s AND surveys.item_id IN (%(item_id_1_1)s, %(item_id_1_2)s, %(item_id_1_3)s, %(item_id_1_4)s, %(item_id_1_5)s, %(item_id_1_6)s, %(item_id_1_7)s, %(item_id_1_8)s) AND surveys.gender = %(gender_1)s\n",
      "2024-08-04 19:53:22,777 INFO sqlalchemy.engine.Engine [cached since 0.1586s ago] {'brand_id_1': 18, 'age_lower_limit_1': 35, 'age_upper_limit_1': 35, 'gender_1': 1, 'item_id_1_1': 1, 'item_id_1_2': 2, 'item_id_1_3': 3, 'item_id_1_4': 4, 'item_id_1_5': 5, 'item_id_1_6': 6, 'item_id_1_7': 7, 'item_id_1_8': 8}\n",
      "2024-08-04 19:53:22,803 INFO sqlalchemy.engine.Engine SELECT surveys.survey_id, surveys.item_id, surveys.brand_id, surveys.score, surveys.age_lower_limit, surveys.age_upper_limit, surveys.gender, surveys.response_count \n",
      "FROM surveys \n",
      "WHERE surveys.brand_id = %(brand_id_1)s AND surveys.age_lower_limit < %(age_lower_limit_1)s AND surveys.age_upper_limit > %(age_upper_limit_1)s AND surveys.item_id IN (%(item_id_1_1)s, %(item_id_1_2)s, %(item_id_1_3)s, %(item_id_1_4)s, %(item_id_1_5)s, %(item_id_1_6)s, %(item_id_1_7)s, %(item_id_1_8)s) AND surveys.gender = %(gender_1)s\n",
      "2024-08-04 19:53:22,803 INFO sqlalchemy.engine.Engine [cached since 0.1852s ago] {'brand_id_1': 19, 'age_lower_limit_1': 35, 'age_upper_limit_1': 35, 'gender_1': 1, 'item_id_1_1': 1, 'item_id_1_2': 2, 'item_id_1_3': 3, 'item_id_1_4': 4, 'item_id_1_5': 5, 'item_id_1_6': 6, 'item_id_1_7': 7, 'item_id_1_8': 8}\n",
      "2024-08-04 19:53:22,830 INFO sqlalchemy.engine.Engine SELECT surveys.survey_id, surveys.item_id, surveys.brand_id, surveys.score, surveys.age_lower_limit, surveys.age_upper_limit, surveys.gender, surveys.response_count \n",
      "FROM surveys \n",
      "WHERE surveys.brand_id = %(brand_id_1)s AND surveys.age_lower_limit < %(age_lower_limit_1)s AND surveys.age_upper_limit > %(age_upper_limit_1)s AND surveys.item_id IN (%(item_id_1_1)s, %(item_id_1_2)s, %(item_id_1_3)s, %(item_id_1_4)s, %(item_id_1_5)s, %(item_id_1_6)s, %(item_id_1_7)s, %(item_id_1_8)s) AND surveys.gender = %(gender_1)s\n",
      "2024-08-04 19:53:22,830 INFO sqlalchemy.engine.Engine [cached since 0.2125s ago] {'brand_id_1': 20, 'age_lower_limit_1': 35, 'age_upper_limit_1': 35, 'gender_1': 1, 'item_id_1_1': 1, 'item_id_1_2': 2, 'item_id_1_3': 3, 'item_id_1_4': 4, 'item_id_1_5': 5, 'item_id_1_6': 6, 'item_id_1_7': 7, 'item_id_1_8': 8}\n",
      "2024-08-04 19:53:22,857 INFO sqlalchemy.engine.Engine SELECT surveys.survey_id, surveys.item_id, surveys.brand_id, surveys.score, surveys.age_lower_limit, surveys.age_upper_limit, surveys.gender, surveys.response_count \n",
      "FROM surveys \n",
      "WHERE surveys.brand_id = %(brand_id_1)s AND surveys.age_lower_limit < %(age_lower_limit_1)s AND surveys.age_upper_limit > %(age_upper_limit_1)s AND surveys.item_id IN (%(item_id_1_1)s, %(item_id_1_2)s, %(item_id_1_3)s, %(item_id_1_4)s, %(item_id_1_5)s, %(item_id_1_6)s, %(item_id_1_7)s, %(item_id_1_8)s) AND surveys.gender = %(gender_1)s\n",
      "2024-08-04 19:53:22,858 INFO sqlalchemy.engine.Engine [cached since 0.24s ago] {'brand_id_1': 22, 'age_lower_limit_1': 35, 'age_upper_limit_1': 35, 'gender_1': 1, 'item_id_1_1': 1, 'item_id_1_2': 2, 'item_id_1_3': 3, 'item_id_1_4': 4, 'item_id_1_5': 5, 'item_id_1_6': 6, 'item_id_1_7': 7, 'item_id_1_8': 8}\n",
      "2024-08-04 19:53:22,883 INFO sqlalchemy.engine.Engine SELECT surveys.survey_id, surveys.item_id, surveys.brand_id, surveys.score, surveys.age_lower_limit, surveys.age_upper_limit, surveys.gender, surveys.response_count \n",
      "FROM surveys \n",
      "WHERE surveys.brand_id = %(brand_id_1)s AND surveys.age_lower_limit < %(age_lower_limit_1)s AND surveys.age_upper_limit > %(age_upper_limit_1)s AND surveys.item_id IN (%(item_id_1_1)s, %(item_id_1_2)s, %(item_id_1_3)s, %(item_id_1_4)s, %(item_id_1_5)s, %(item_id_1_6)s, %(item_id_1_7)s, %(item_id_1_8)s) AND surveys.gender = %(gender_1)s\n",
      "2024-08-04 19:53:22,883 INFO sqlalchemy.engine.Engine [cached since 0.2657s ago] {'brand_id_1': 23, 'age_lower_limit_1': 35, 'age_upper_limit_1': 35, 'gender_1': 1, 'item_id_1_1': 1, 'item_id_1_2': 2, 'item_id_1_3': 3, 'item_id_1_4': 4, 'item_id_1_5': 5, 'item_id_1_6': 6, 'item_id_1_7': 7, 'item_id_1_8': 8}\n",
      "2024-08-04 19:53:22,909 INFO sqlalchemy.engine.Engine SELECT surveys.survey_id, surveys.item_id, surveys.brand_id, surveys.score, surveys.age_lower_limit, surveys.age_upper_limit, surveys.gender, surveys.response_count \n",
      "FROM surveys \n",
      "WHERE surveys.brand_id = %(brand_id_1)s AND surveys.age_lower_limit < %(age_lower_limit_1)s AND surveys.age_upper_limit > %(age_upper_limit_1)s AND surveys.item_id IN (%(item_id_1_1)s, %(item_id_1_2)s, %(item_id_1_3)s, %(item_id_1_4)s, %(item_id_1_5)s, %(item_id_1_6)s, %(item_id_1_7)s, %(item_id_1_8)s) AND surveys.gender = %(gender_1)s\n",
      "2024-08-04 19:53:22,910 INFO sqlalchemy.engine.Engine [cached since 0.2917s ago] {'brand_id_1': 24, 'age_lower_limit_1': 35, 'age_upper_limit_1': 35, 'gender_1': 1, 'item_id_1_1': 1, 'item_id_1_2': 2, 'item_id_1_3': 3, 'item_id_1_4': 4, 'item_id_1_5': 5, 'item_id_1_6': 6, 'item_id_1_7': 7, 'item_id_1_8': 8}\n",
      "2024-08-04 19:53:22,934 INFO sqlalchemy.engine.Engine SELECT surveys.survey_id, surveys.item_id, surveys.brand_id, surveys.score, surveys.age_lower_limit, surveys.age_upper_limit, surveys.gender, surveys.response_count \n",
      "FROM surveys \n",
      "WHERE surveys.brand_id = %(brand_id_1)s AND surveys.age_lower_limit < %(age_lower_limit_1)s AND surveys.age_upper_limit > %(age_upper_limit_1)s AND surveys.item_id IN (%(item_id_1_1)s, %(item_id_1_2)s, %(item_id_1_3)s, %(item_id_1_4)s, %(item_id_1_5)s, %(item_id_1_6)s, %(item_id_1_7)s, %(item_id_1_8)s) AND surveys.gender = %(gender_1)s\n",
      "2024-08-04 19:53:22,935 INFO sqlalchemy.engine.Engine [cached since 0.3169s ago] {'brand_id_1': 25, 'age_lower_limit_1': 35, 'age_upper_limit_1': 35, 'gender_1': 1, 'item_id_1_1': 1, 'item_id_1_2': 2, 'item_id_1_3': 3, 'item_id_1_4': 4, 'item_id_1_5': 5, 'item_id_1_6': 6, 'item_id_1_7': 7, 'item_id_1_8': 8}\n",
      "2024-08-04 19:53:22,960 INFO sqlalchemy.engine.Engine SELECT surveys.survey_id, surveys.item_id, surveys.brand_id, surveys.score, surveys.age_lower_limit, surveys.age_upper_limit, surveys.gender, surveys.response_count \n",
      "FROM surveys \n",
      "WHERE surveys.brand_id = %(brand_id_1)s AND surveys.age_lower_limit < %(age_lower_limit_1)s AND surveys.age_upper_limit > %(age_upper_limit_1)s AND surveys.item_id IN (%(item_id_1_1)s, %(item_id_1_2)s, %(item_id_1_3)s, %(item_id_1_4)s, %(item_id_1_5)s, %(item_id_1_6)s, %(item_id_1_7)s, %(item_id_1_8)s) AND surveys.gender = %(gender_1)s\n",
      "2024-08-04 19:53:22,961 INFO sqlalchemy.engine.Engine [cached since 0.3425s ago] {'brand_id_1': 26, 'age_lower_limit_1': 35, 'age_upper_limit_1': 35, 'gender_1': 1, 'item_id_1_1': 1, 'item_id_1_2': 2, 'item_id_1_3': 3, 'item_id_1_4': 4, 'item_id_1_5': 5, 'item_id_1_6': 6, 'item_id_1_7': 7, 'item_id_1_8': 8}\n",
      "2024-08-04 19:53:22,987 INFO sqlalchemy.engine.Engine SELECT surveys.survey_id, surveys.item_id, surveys.brand_id, surveys.score, surveys.age_lower_limit, surveys.age_upper_limit, surveys.gender, surveys.response_count \n",
      "FROM surveys \n",
      "WHERE surveys.brand_id = %(brand_id_1)s AND surveys.age_lower_limit < %(age_lower_limit_1)s AND surveys.age_upper_limit > %(age_upper_limit_1)s AND surveys.item_id IN (%(item_id_1_1)s, %(item_id_1_2)s, %(item_id_1_3)s, %(item_id_1_4)s, %(item_id_1_5)s, %(item_id_1_6)s, %(item_id_1_7)s, %(item_id_1_8)s) AND surveys.gender = %(gender_1)s\n",
      "2024-08-04 19:53:22,987 INFO sqlalchemy.engine.Engine [cached since 0.3693s ago] {'brand_id_1': 29, 'age_lower_limit_1': 35, 'age_upper_limit_1': 35, 'gender_1': 1, 'item_id_1_1': 1, 'item_id_1_2': 2, 'item_id_1_3': 3, 'item_id_1_4': 4, 'item_id_1_5': 5, 'item_id_1_6': 6, 'item_id_1_7': 7, 'item_id_1_8': 8}\n",
      "    brand_id  age  gender      id1      id2      id3      id4      id5  \\\n",
      "0         11   35       1  3.50000  2.00000  4.00000  4.00000  4.50000   \n",
      "1         13   35       1  1.66667  2.33333  3.33333  3.33333  1.00000   \n",
      "2         14   35       1  3.00000  4.66667  4.33333  3.66667  3.66667   \n",
      "3         15   35       1  3.33333  2.66667  3.00000  3.00000  2.66667   \n",
      "4         17   35       1  3.00000  5.00000  3.00000  3.00000  2.00000   \n",
      "5         18   35       1  3.00000  4.00000  4.50000  2.50000  2.00000   \n",
      "6         19   35       1  4.00000  4.00000  3.00000  3.00000  5.00000   \n",
      "7         20   35       1  4.00000  5.00000  4.00000  2.00000  3.00000   \n",
      "8         22   35       1  1.00000  3.00000  3.00000  2.00000  2.00000   \n",
      "9         23   35       1  2.00000  1.00000  1.00000  1.00000  2.00000   \n",
      "10        24   35       1  3.00000  3.00000  2.00000  1.00000  4.00000   \n",
      "11        25   35       1  2.00000  3.00000  3.00000  3.00000  2.00000   \n",
      "12        26   35       1  1.50000  1.25000  3.25000  3.50000  1.75000   \n",
      "13        29   35       1  3.00000  2.00000  4.00000  3.00000  1.00000   \n",
      "\n",
      "        id6      id7      id8  \n",
      "0   3.00000  3.50000  4.50000  \n",
      "1   2.66667  4.00000  1.66667  \n",
      "2   3.00000  3.66667  1.33333  \n",
      "3   2.66667  3.66667  1.00000  \n",
      "4   2.00000  3.00000  1.00000  \n",
      "5   2.00000  3.50000  1.00000  \n",
      "6   2.00000  5.00000  3.00000  \n",
      "7   1.00000  4.00000  1.00000  \n",
      "8   3.00000  4.00000  1.00000  \n",
      "9   1.00000  1.00000  2.00000  \n",
      "10  4.00000  5.00000  2.00000  \n",
      "11  4.00000  5.00000  3.00000  \n",
      "12  4.25000  4.25000  2.50000  \n",
      "13  1.00000  4.00000  1.00000  \n"
     ]
    }
   ],
   "source": [
    "# 例としてageが35でgenderが1の場合のデータを取得し、統合\n",
    "age = 35\n",
    "gender = 1\n",
    "category = \"craft\"\n",
    "combined_df = get_combined_data(age, gender, category)\n",
    "print(combined_df)"
   ]
  },
  {
   "cell_type": "code",
   "execution_count": 9,
   "metadata": {},
   "outputs": [],
   "source": [
    "# 1. 指定したuser_idに関する情報を抽出\n",
    "def get_user_preferences(user_id):\n",
    "    query = (\n",
    "        select(mymodels.Preference)\n",
    "        .where(mymodels.Preference.user_id == user_id)\n",
    "    )\n",
    "\n",
    "    results = db.execute(query).mappings().fetchall()\n",
    "    \n",
    "    return results\n",
    "\n",
    "\n",
    "# 2. item_idに対応するscoreを8次元のベクトルとして整理し、3. 得られた結果をDataFrame形式で出力\n",
    "def get_user_preference_vector(user_id):\n",
    "    results = get_user_preferences(user_id)\n",
    "    \n",
    "    # スコアを8次元のベクトルとして整理\n",
    "    data = {'user_id': [user_id], 'id1': [None], 'id2': [None], 'id3': [None], 'id4': [None], 'id5': [None], 'id6': [None], 'id7': [None], 'id8': [None]}\n",
    "    \n",
    "    for row in results:\n",
    "        preference = row['Preference']  # 辞書からオブジェクトを取り出す\n",
    "        item_id = preference.item_id\n",
    "        if 1 <= item_id <= 8:\n",
    "            data[f'id{item_id}'][0] = preference.score\n",
    "    \n",
    "    df = pd.DataFrame(data)\n",
    "    return df"
   ]
  },
  {
   "cell_type": "code",
   "execution_count": 25,
   "metadata": {},
   "outputs": [
    {
     "name": "stdout",
     "output_type": "stream",
     "text": [
      "2024-08-04 20:09:49,468 INFO sqlalchemy.engine.Engine SELECT preferences.user_id, preferences.item_id, preferences.score \n",
      "FROM preferences \n",
      "WHERE preferences.user_id = %(user_id_1)s\n",
      "2024-08-04 20:09:49,469 INFO sqlalchemy.engine.Engine [cached since 975.4s ago] {'user_id_1': 1}\n",
      "   user_id  id1  id2  id3  id4  id5  id6  id7  id8\n",
      "0        1  3.0  2.0  2.0  1.0  2.0  1.0  4.0  3.0\n"
     ]
    }
   ],
   "source": [
    "user_id = 1  # 本来はJWTから取得する\n",
    "user_id = 1\n",
    "user_df = get_user_preference_vector(user_id)\n",
    "print(user_df)"
   ]
  },
  {
   "cell_type": "code",
   "execution_count": 11,
   "metadata": {},
   "outputs": [],
   "source": [
    "from scipy.spatial.distance import cosine"
   ]
  },
  {
   "cell_type": "code",
   "execution_count": 18,
   "metadata": {},
   "outputs": [],
   "source": [
    "# Cos類似度を計算する関数\n",
    "def calculate_cosine_similarity(vector1, vector2):\n",
    "    return 1 - cosine(vector1, vector2)\n",
    "\n",
    "# combined_dfの8次元ベクトルとuser_dfの8次元ベクトルでcos類似度を計算し、rec_scoreに格納する関数\n",
    "def add_recommendation_scores(combined_df, user_vector):\n",
    "    combined_df['rec_score'] = 0.0\n",
    "    user_vector = user_vector.iloc[0, 1:].values.tolist()  # user_vectorの8次元ベクトルを取得\n",
    "    print(user_vector)\n",
    "    \n",
    "    for idx, row in combined_df.iterrows():\n",
    "        combined_vector = row[['id1', 'id2', 'id3', 'id4', 'id5', 'id6', 'id7', 'id8']].values.tolist()\n",
    "        rec_score = calculate_cosine_similarity(combined_vector, user_vector)\n",
    "        combined_df.at[idx, 'rec_score'] = rec_score\n",
    "        \n",
    "    # 'rec_score'を降順でソート\n",
    "    combined_df = combined_df.sort_values(by='rec_score', ascending=False).reset_index(drop=True)\n",
    "    \n",
    "    return combined_df"
   ]
  },
  {
   "cell_type": "code",
   "execution_count": 23,
   "metadata": {},
   "outputs": [],
   "source": [
    "user_df = pd.DataFrame({\n",
    "    'user_id': [1],\n",
    "    'id1': [4.0/2],\n",
    "    'id2': [4.0/2],\n",
    "    'id3': [3.0/2],\n",
    "    'id4': [3.0/2],\n",
    "    'id5': [5.0/2],\n",
    "    'id6': [2.0/2],\n",
    "    'id7': [5.0/2],\n",
    "    'id8': [3.0/2]\n",
    "})"
   ]
  },
  {
   "cell_type": "code",
   "execution_count": 26,
   "metadata": {},
   "outputs": [
    {
     "name": "stdout",
     "output_type": "stream",
     "text": [
      "[3.0, 2.0, 2.0, 1.0, 2.0, 1.0, 4.0, 3.0]\n",
      "    brand_id  age  gender      id1      id2      id3      id4      id5  \\\n",
      "0         19   35       1  4.00000  4.00000  3.00000  3.00000  5.00000   \n",
      "1         24   35       1  3.00000  3.00000  2.00000  1.00000  4.00000   \n",
      "2         23   35       1  2.00000  1.00000  1.00000  1.00000  2.00000   \n",
      "3         11   35       1  3.50000  2.00000  4.00000  4.00000  4.50000   \n",
      "4         25   35       1  2.00000  3.00000  3.00000  3.00000  2.00000   \n",
      "5         15   35       1  3.33333  2.66667  3.00000  3.00000  2.66667   \n",
      "6         20   35       1  4.00000  5.00000  4.00000  2.00000  3.00000   \n",
      "7         29   35       1  3.00000  2.00000  4.00000  3.00000  1.00000   \n",
      "8         18   35       1  3.00000  4.00000  4.50000  2.50000  2.00000   \n",
      "9         13   35       1  1.66667  2.33333  3.33333  3.33333  1.00000   \n",
      "10        14   35       1  3.00000  4.66667  4.33333  3.66667  3.66667   \n",
      "11        22   35       1  1.00000  3.00000  3.00000  2.00000  2.00000   \n",
      "12        17   35       1  3.00000  5.00000  3.00000  3.00000  2.00000   \n",
      "13        26   35       1  1.50000  1.25000  3.25000  3.50000  1.75000   \n",
      "\n",
      "        id6      id7      id8  rec_score  \n",
      "0   2.00000  5.00000  3.00000   0.950470  \n",
      "1   4.00000  5.00000  2.00000   0.913414  \n",
      "2   1.00000  1.00000  2.00000   0.910182  \n",
      "3   3.00000  3.50000  4.50000   0.908295  \n",
      "4   4.00000  5.00000  3.00000   0.908025  \n",
      "5   2.66667  3.66667  1.00000   0.895910  \n",
      "6   1.00000  4.00000  1.00000   0.892413  \n",
      "7   1.00000  4.00000  1.00000   0.879427  \n",
      "8   2.00000  3.50000  1.00000   0.871505  \n",
      "9   2.66667  4.00000  1.66667   0.864159  \n",
      "10  3.00000  3.66667  1.33333   0.858358  \n",
      "11  3.00000  4.00000  1.00000   0.852530  \n",
      "12  2.00000  3.00000  1.00000   0.845330  \n",
      "13  4.25000  4.25000  2.50000   0.837396  \n"
     ]
    }
   ],
   "source": [
    "combined_df_with_scores = add_recommendation_scores(combined_df, user_df)\n",
    "print(combined_df_with_scores)"
   ]
  },
  {
   "cell_type": "code",
   "execution_count": 31,
   "metadata": {},
   "outputs": [
    {
     "data": {
      "text/html": [
       "<div>\n",
       "<style scoped>\n",
       "    .dataframe tbody tr th:only-of-type {\n",
       "        vertical-align: middle;\n",
       "    }\n",
       "\n",
       "    .dataframe tbody tr th {\n",
       "        vertical-align: top;\n",
       "    }\n",
       "\n",
       "    .dataframe thead th {\n",
       "        text-align: right;\n",
       "    }\n",
       "</style>\n",
       "<table border=\"1\" class=\"dataframe\">\n",
       "  <thead>\n",
       "    <tr style=\"text-align: right;\">\n",
       "      <th></th>\n",
       "      <th>brand_id</th>\n",
       "    </tr>\n",
       "  </thead>\n",
       "  <tbody>\n",
       "    <tr>\n",
       "      <th>0</th>\n",
       "      <td>15</td>\n",
       "    </tr>\n",
       "    <tr>\n",
       "      <th>1</th>\n",
       "      <td>23</td>\n",
       "    </tr>\n",
       "    <tr>\n",
       "      <th>2</th>\n",
       "      <td>29</td>\n",
       "    </tr>\n",
       "  </tbody>\n",
       "</table>\n",
       "</div>"
      ],
      "text/plain": [
       "   brand_id\n",
       "0        15\n",
       "1        23\n",
       "2        29"
      ]
     },
     "execution_count": 31,
     "metadata": {},
     "output_type": "execute_result"
    }
   ],
   "source": [
    "combined_df_with_scores.head(3)[[\"brand_id\"]]"
   ]
  },
  {
   "cell_type": "code",
   "execution_count": 27,
   "metadata": {},
   "outputs": [],
   "source": [
    "import numpy as np"
   ]
  },
  {
   "cell_type": "code",
   "execution_count": 28,
   "metadata": {},
   "outputs": [],
   "source": [
    "# ユークリッド距離で評価する\n",
    "\n",
    "# ユークリッド距離を計算する関数\n",
    "def calculate_euclidean_distance(vector1, vector2):\n",
    "    return np.linalg.norm(np.array(vector1) - np.array(vector2))\n",
    "\n",
    "# combined_dfの8次元ベクトルとuser_dfの8次元ベクトルでユークリッド距離を計算し、distanceに格納する関数\n",
    "def add_recommendation_scores(combined_df, user_vector):\n",
    "    combined_df['distance'] = 0.0\n",
    "    user_vector = user_vector.iloc[0, 1:].values.tolist()  # user_vectorの8次元ベクトルを取得\n",
    "    \n",
    "    for idx, row in combined_df.iterrows():\n",
    "        combined_vector = row[['id1', 'id2', 'id3', 'id4', 'id5', 'id6', 'id7', 'id8']].values.tolist()\n",
    "        distance = calculate_euclidean_distance(combined_vector, user_vector)\n",
    "        combined_df.at[idx, 'distance'] = distance\n",
    "    \n",
    "    # 'distance'を昇順でソート\n",
    "    combined_df = combined_df.sort_values(by='distance', ascending=True).reset_index(drop=True)\n",
    "    return combined_df"
   ]
  },
  {
   "cell_type": "code",
   "execution_count": 29,
   "metadata": {},
   "outputs": [
    {
     "name": "stdout",
     "output_type": "stream",
     "text": [
      "    brand_id  age  gender      id1      id2      id3      id4      id5  \\\n",
      "0         15   35       1  3.33333  2.66667  3.00000  3.00000  2.66667   \n",
      "1         23   35       1  2.00000  1.00000  1.00000  1.00000  2.00000   \n",
      "2         29   35       1  3.00000  2.00000  4.00000  3.00000  1.00000   \n",
      "3         13   35       1  1.66667  2.33333  3.33333  3.33333  1.00000   \n",
      "4         22   35       1  1.00000  3.00000  3.00000  2.00000  2.00000   \n",
      "5         24   35       1  3.00000  3.00000  2.00000  1.00000  4.00000   \n",
      "6         25   35       1  2.00000  3.00000  3.00000  3.00000  2.00000   \n",
      "7         18   35       1  3.00000  4.00000  4.50000  2.50000  2.00000   \n",
      "8         17   35       1  3.00000  5.00000  3.00000  3.00000  2.00000   \n",
      "9         20   35       1  4.00000  5.00000  4.00000  2.00000  3.00000   \n",
      "10        19   35       1  4.00000  4.00000  3.00000  3.00000  5.00000   \n",
      "11        26   35       1  1.50000  1.25000  3.25000  3.50000  1.75000   \n",
      "12        11   35       1  3.50000  2.00000  4.00000  4.00000  4.50000   \n",
      "13        14   35       1  3.00000  4.66667  4.33333  3.66667  3.66667   \n",
      "\n",
      "        id6      id7      id8  rec_score  distance  \n",
      "0   2.66667  3.66667  1.00000   0.895910  3.590112  \n",
      "1   1.00000  1.00000  2.00000   0.910182  3.605551  \n",
      "2   1.00000  4.00000  1.00000   0.879427  3.605551  \n",
      "3   2.66667  4.00000  1.66667   0.864159  3.829704  \n",
      "4   3.00000  4.00000  1.00000   0.852530  3.872983  \n",
      "5   4.00000  5.00000  2.00000   0.913414  4.000000  \n",
      "6   4.00000  5.00000  3.00000   0.908025  4.123106  \n",
      "7   2.00000  3.50000  1.00000   0.871505  4.213075  \n",
      "8   2.00000  3.00000  1.00000   0.845330  4.472136  \n",
      "9   1.00000  4.00000  1.00000   0.892413  4.472136  \n",
      "10  2.00000  5.00000  3.00000   0.950470  4.582576  \n",
      "11  4.25000  4.25000  2.50000   0.837396  4.643544  \n",
      "12  3.00000  3.50000  4.50000   0.908295  5.099020  \n",
      "13  3.00000  3.66667  1.33333   0.858358  5.416029  \n"
     ]
    }
   ],
   "source": [
    "combined_df_with_scores = add_recommendation_scores(combined_df, user_df)\n",
    "print(combined_df_with_scores)"
   ]
  },
  {
   "cell_type": "code",
   "execution_count": 19,
   "metadata": {},
   "outputs": [
    {
     "data": {
      "text/plain": [
       "<bound method Session.close of <sqlalchemy.orm.session.Session object at 0x000001E2D1B31B10>>"
      ]
     },
     "execution_count": 19,
     "metadata": {},
     "output_type": "execute_result"
    }
   ],
   "source": [
    "db.close"
   ]
  },
  {
   "cell_type": "code",
   "execution_count": null,
   "metadata": {},
   "outputs": [
    {
     "name": "stdout",
     "output_type": "stream",
     "text": [
      "2024-08-04 16:57:49,907 INFO sqlalchemy.engine.Engine SELECT surveys.survey_id, surveys.item_id, surveys.brand_id, surveys.score, surveys.age_lower_limit, surveys.age_upper_limit, surveys.gender, surveys.response_count \n",
      "FROM surveys \n",
      "WHERE surveys.brand_id = %(brand_id_1)s AND surveys.age_lower_limit < %(age_lower_limit_1)s AND surveys.age_upper_limit > %(age_upper_limit_1)s AND surveys.item_id IN (%(item_id_1_1)s, %(item_id_1_2)s, %(item_id_1_3)s, %(item_id_1_4)s, %(item_id_1_5)s, %(item_id_1_6)s, %(item_id_1_7)s, %(item_id_1_8)s) AND surveys.gender = %(gender_1)s\n",
      "2024-08-04 16:57:49,908 INFO sqlalchemy.engine.Engine [cached since 738.8s ago] {'brand_id_1': 6, 'age_lower_limit_1': 35, 'age_upper_limit_1': 35, 'gender_1': 1, 'item_id_1_1': 1, 'item_id_1_2': 2, 'item_id_1_3': 3, 'item_id_1_4': 4, 'item_id_1_5': 5, 'item_id_1_6': 6, 'item_id_1_7': 7, 'item_id_1_8': 8}\n",
      "   brand_id  age  gender   id1   id2   id3   id4   id5   id6   id7   id8\n",
      "0         6   35       1  None  None  None  None  None  None  None  None\n"
     ]
    }
   ],
   "source": [
    "# 例としてbrand_idが1でageが25の場合のデータを取得\n",
    "brand_id = 6\n",
    "age = 35\n",
    "gender = 1\n",
    "df = get_filtered_data(brand_id, age, gender)\n",
    "print(df)"
   ]
  }
 ],
 "metadata": {
  "kernelspec": {
   "display_name": "py311_beerlog2",
   "language": "python",
   "name": "python3"
  },
  "language_info": {
   "codemirror_mode": {
    "name": "ipython",
    "version": 3
   },
   "file_extension": ".py",
   "mimetype": "text/x-python",
   "name": "python",
   "nbconvert_exporter": "python",
   "pygments_lexer": "ipython3",
   "version": "3.11.9"
  }
 },
 "nbformat": 4,
 "nbformat_minor": 2
}
